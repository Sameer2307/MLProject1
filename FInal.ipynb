{
 "cells": [
  {
   "cell_type": "code",
   "execution_count": 1,
   "metadata": {},
   "outputs": [],
   "source": [
    "import pandas as pd\n",
    "import numpy as np\n",
    "import nltk"
   ]
  },
  {
   "cell_type": "code",
   "execution_count": 2,
   "metadata": {},
   "outputs": [],
   "source": [
    "df = pd.read_fwf('sample.txt', sep='', header=None)\n",
    "df[1] = df[1].astype(str)"
   ]
  },
  {
   "cell_type": "code",
   "execution_count": 3,
   "metadata": {},
   "outputs": [],
   "source": [
    "df.head()\n",
    "df.to_csv('train.csv',encoding=\"utf-8\")"
   ]
  },
  {
   "cell_type": "code",
   "execution_count": 4,
   "metadata": {},
   "outputs": [],
   "source": [
    "train = pd.read_csv('train.csv')"
   ]
  },
  {
   "cell_type": "code",
   "execution_count": 5,
   "metadata": {},
   "outputs": [],
   "source": [
    "train.drop('Unnamed: 0', axis=1, inplace=True)\n",
    "train = train.rename(columns={'0': 'IDs', '1':'Tweets'})\n",
    "train['Tweets'] = train['Tweets'].astype(str)"
   ]
  },
  {
   "cell_type": "code",
   "execution_count": 14,
   "metadata": {},
   "outputs": [],
   "source": [
    "def Remove(duplicate): \n",
    "    final_list = [] \n",
    "    for num in duplicate: \n",
    "        if num not in final_list: \n",
    "            final_list.append(num) \n",
    "    return final_list "
   ]
  },
  {
   "cell_type": "code",
   "execution_count": 44,
   "metadata": {},
   "outputs": [],
   "source": [
    "import csv"
   ]
  },
  {
   "cell_type": "code",
   "execution_count": 58,
   "metadata": {
    "scrolled": false
   },
   "outputs": [
    {
     "name": "stdout",
     "output_type": "stream",
     "text": [
      "8746\n",
      "2423\n",
      "564\n",
      "3039\n",
      "9661\n",
      "1017\n",
      "9976\n",
      "7123\n",
      "2764\n"
     ]
    }
   ],
   "source": [
    "import yake\n",
    "all = []\n",
    "final={}\n",
    "tweet = \"\"\n",
    "id = train['IDs'][0]\n",
    "for i in range(len(train['Tweets'])):\n",
    "    if id == train['IDs'][i]:\n",
    "        a = train['Tweets'][i]\n",
    "        a = a.replace('@handle','')\n",
    "        tweet = tweet + a + \". \"\n",
    "    else:\n",
    "        text = tweet\n",
    "        print(id)\n",
    "        simple_kwextractor = yake.KeywordExtractor()\n",
    "        keywords = simple_kwextractor.extract_keywords(text)\n",
    "        \n",
    "        # for kw in keywords:\n",
    "        # \tprint(kw)\n",
    "        \n",
    "        # specifying parameters\n",
    "        max_ngram_size = 3\n",
    "        custom_kwextractor = yake.KeywordExtractor(lan=\"en\", n = max_ngram_size, dedupLim=0.9, dedupFunc='seqm', windowsSize=1, top=20, features=None)\n",
    "        \n",
    "        keywords = custom_kwextractor.extract_keywords(text)\n",
    "        \n",
    "        for (a,b) in keywords:\n",
    "            if b<0.6:\n",
    "                #print (a,\",\",b)\n",
    "                if a not in all:\n",
    "                    all.append(a)\n",
    "        tweet = \"\"\n",
    "        id = train['IDs'][i]\n",
    "all.sort()        \n",
    "#print(Remove(all))\n",
    "#print(len(all))\n",
    "\n",
    "final = []\n",
    "final.append(all)\n",
    "\n",
    "with open(\"output.csv\",'wt') as resultFile:\n",
    "    wr = csv.writer(resultFile, dialect='excel')\n",
    "    wr.writerow(all)\n",
    "\n",
    "\n",
    "for j in range(len(all)):\n",
    "    per_user.insert(j,0)\n",
    "tweet = \"\"\n",
    "id = train['IDs'][0]\n",
    "for i in range(len(train['Tweets'])):\n",
    "    if id == train['IDs'][i]:\n",
    "        a = train['Tweets'][i]\n",
    "        a = a.replace('@handle','')\n",
    "        tweet = tweet + a + \". \"\n",
    "    else:\n",
    "        per_user = []\n",
    "        for j in range(len(all)):\n",
    "            per_user.insert(j,0)\n",
    "        text = tweet\n",
    "        #print(id)\n",
    "        simple_kwextractor = yake.KeywordExtractor()\n",
    "        keywords = simple_kwextractor.extract_keywords(text)\n",
    "        \n",
    "        # for kw in keywords:\n",
    "        # \tprint(kw)\n",
    "        \n",
    "        # specifying parameters\n",
    "        max_ngram_size = 3\n",
    "        custom_kwextractor = yake.KeywordExtractor(lan=\"en\", n = max_ngram_size, dedupLim=0.9, dedupFunc='seqm', windowsSize=1, top=20, features=None)\n",
    "        \n",
    "        keywords = custom_kwextractor.extract_keywords(text)\n",
    "        \n",
    "        for (a,b) in keywords:\n",
    "            if b<0.6:\n",
    "                #print (a,\",\",b)\n",
    "                for j in range(len(all)):\n",
    "                    if a == all[j]:\n",
    "                        per_user[j] = b\n",
    "        final.append(per_user)\n",
    "        with open(\"output.csv\",'at') as resultFile:\n",
    "            wr = csv.writer(resultFile, dialect='excel')\n",
    "            wr.writerow(per_user)\n",
    "        #print(per_user)\n",
    "                        \n",
    "                        \n",
    "        tweet = \"\"\n",
    "        id = train['IDs'][i]\n",
    "\n",
    "\n",
    "\n"
   ]
  },
  {
   "cell_type": "code",
   "execution_count": null,
   "metadata": {},
   "outputs": [],
   "source": []
  },
  {
   "cell_type": "code",
   "execution_count": 42,
   "metadata": {},
   "outputs": [
    {
     "name": "stdout",
     "output_type": "stream",
     "text": [
      "[0, 0, 0, 0, 0, 0, 0, 0, 0, 0]\n"
     ]
    }
   ],
   "source": [
    "per_user = []\n",
    "for j in range(10):\n",
    "    per_user.insert(j,0)\n",
    "    \n",
    "print(per_user)"
   ]
  },
  {
   "cell_type": "code",
   "execution_count": null,
   "metadata": {},
   "outputs": [],
   "source": []
  }
 ],
 "metadata": {
  "kernelspec": {
   "display_name": "Python 3",
   "language": "python",
   "name": "python3"
  },
  "language_info": {
   "codemirror_mode": {
    "name": "ipython",
    "version": 3
   },
   "file_extension": ".py",
   "mimetype": "text/x-python",
   "name": "python",
   "nbconvert_exporter": "python",
   "pygments_lexer": "ipython3",
   "version": "3.7.3"
  }
 },
 "nbformat": 4,
 "nbformat_minor": 2
}
